{
 "cells": [
  {
   "cell_type": "code",
   "execution_count": 1,
   "metadata": {},
   "outputs": [
    {
     "name": "stderr",
     "output_type": "stream",
     "text": [
      "/tmp/ipykernel_2330963/3155436182.py:1: DeprecationWarning: Importing display from IPython.core.display is deprecated since IPython 7.14, please import from IPython display\n",
      "  from IPython.core.display import display\n",
      "\u001b[38;20m2023-01-13 21:05:02,033 [MainThread  ] [INFO] {visions.backends} Pandas backend loaded 1.5.2\u001b[0m\n",
      "\u001b[38;20m2023-01-13 21:05:02,037 [MainThread  ] [INFO] {visions.backends} Numpy backend loaded 1.23.5\u001b[0m\n",
      "\u001b[38;20m2023-01-13 21:05:02,037 [MainThread  ] [INFO] {visions.backends} Pyspark backend NOT loaded\u001b[0m\n",
      "\u001b[38;20m2023-01-13 21:05:02,038 [MainThread  ] [INFO] {visions.backends} Python backend loaded\u001b[0m\n",
      "\u001b[38;20m2023-01-13 21:05:02,102 [MainThread  ] [INFO] {ConfigLoader} Found config file: ./config/config.yaml\u001b[0m\n",
      "\u001b[38;20m2023-01-13 21:05:02,114 [MainThread  ] [INFO] {ConfigLoader} \n",
      "/================================================\\\n",
      "Loaded configuration short report:\n",
      "------------------------------------------------\n",
      "Research.\n",
      "name: Tesla Stock Price Time Series Prediction\n",
      "1. Target instrument.\n",
      "    ticker: TSLA\n",
      "    name:   Tesla, Inc.\n",
      "    description:\n",
      "            Tesla, Inc. engages in the design, development, manufacture, and sale of\n",
      "        fully electric vehicles and energy generation and storage systems.\n",
      "2. Extra quoted instruments.\n",
      "    - Quoted instrument\n",
      "        ticker: ^NDX\n",
      "        name:   NASDAQ-100\n",
      "        description:\n",
      "                The index of today's modern-day industrials—comprised of 100 of the largest\n",
      "            and most innovative non-financial companies listed on the Nasdaq\n",
      "            Stock Market based on market capitalization.\n",
      "    - Quoted instrument\n",
      "        ticker: REMX\n",
      "        name:   VanEck Rare Earth/Strategic Metals ETF\n",
      "        description:\n",
      "                VanEck Rare Earth/Strategic Metals ETF (REMX®) seeks to replicate as closely\n",
      "            as possible, before fees and expenses, the price and yield\n",
      "            performance of the MVIS®Global Rare Earth/Strategic Metals Index\n",
      "            (MVREMXTR), which is intended to track the overall performance of\n",
      "            companies involved in producing, refining, and recycling of rare\n",
      "            earth and strategic metals and minerals.\n",
      "3. Machine learning:\n",
      "    ⤇ begin time: 2021-12-20 00:00:00\n",
      "    ⥥ split date: 2022-12-20 00:00:00\n",
      "    ⤆ end time: 2022-12-30 00:00:00\n",
      "    ▒▒░ cross-validation strategy: sliding_window\n",
      "\\================================================/\u001b[0m\n"
     ]
    }
   ],
   "source": [
    "from IPython.core.display import display\n",
    "from IPython.core.display import HTML\n",
    "\n",
    "from collections import OrderedDict\n",
    "\n",
    "import config_logging as clog\n",
    "import config_model as cfgm\n",
    "import config as cfg\n",
    "import data_load_model as dlm\n",
    "import data_load as dl\n",
    "import workflow as wf\n",
    "import workflow_stage as wfs\n",
    "\n",
    "\n",
    "config_loader = cfg.ConfigLoader.from_path('./config/config.yaml')\n",
    "config = config_loader.load_config(print_short_report=True, print_verbose_report=False)\n",
    "\n",
    "workflow_context = {'config': config}\n",
    "data_load_command = wfs.DataLoadCommand()\n",
    "data_tending_command = wfs.DataTendingCommand()\n",
    "eda_post_tending_command = wfs.AutoEdaCommand(\n",
    "    context_data_name='data',\n",
    "    use_remote_data=True,\n",
    "    eda_name='01-eda_post_tending',\n",
    "    report_joined=True\n",
    ")\n",
    "# No missing values (NaNs) here\n",
    "# No EDA after missing value treatment.\n",
    "check_dates_command = wfs.CheckDatesCommand(\n",
    "    use_remote_data=True\n",
    ")\n",
    "select_data_by_time_range_command = wfs.SelectDataByTimeRangeCommand(\n",
    "    use_remote_data=True,\n",
    "    selected_data_context_name='selected-data'\n",
    ")\n",
    "clear_data_command = wfs.DataClearingCommand(\n",
    "    selected_data_context_name='selected-data'\n",
    ")\n",
    "prepared_data_report_command = wfs.PreparedDataReportCommand(\n",
    "    selected_data_context_name='selected-data'\n",
    ")\n",
    "treat_data_command = wfs.DataTreatingCommand(\n",
    "    selected_data_context_name='selected-data'\n",
    ")\n",
    "eda_post_treating_command = wfs.AutoEdaCommand(\n",
    "    context_data_name='selected-data',\n",
    "    use_remote_data=False,\n",
    "    eda_name='09-eda_post_treating',\n",
    "    report_joined=True\n",
    ")\n",
    "\n",
    "\n",
    "commands = OrderedDict[str, wf.AbstractCommand]()\n",
    "commands['01-data_loading'] = data_load_command\n",
    "commands['02-data_tending'] = data_tending_command\n",
    "commands['03-eda_post_tending_command'] = eda_post_tending_command\n",
    "commands['04-check_dates_command'] = check_dates_command\n",
    "commands['05-select_data_by_timerange_command'] = select_data_by_time_range_command\n",
    "commands['06-clear_data_command'] = clear_data_command\n",
    "commands['07-prepared_data_report_command'] = prepared_data_report_command\n",
    "commands['08-treat_data_command'] = treat_data_command\n",
    "commands['09-eda_post_treating_command'] = eda_post_treating_command\n",
    "\n",
    "workflow = wf.Workflow(commands=commands)\n",
    "# workflow.execute(workflow_context)\n"
   ]
  },
  {
   "cell_type": "code",
   "execution_count": 2,
   "metadata": {},
   "outputs": [
    {
     "name": "stderr",
     "output_type": "stream",
     "text": [
      "\u001b[38;20m2023-01-13 21:05:21,135 [MainThread  ] [INFO] {Workflow} \t - executing workflow stage 01-data_loading ...\u001b[0m\n",
      "\u001b[38;20m2023-01-13 21:05:21,753 [MainThread  ] [INFO] {DataLoadCommand} Loaded data for the quoted instrument 'TSLA.'                     DataFrame shape: (1259, 7)\u001b[0m\n",
      "\u001b[38;20m2023-01-13 21:05:22,251 [MainThread  ] [INFO] {DataLoadCommand} Loaded data for the quoted instrument '^NDX.'                     DataFrame shape: (1259, 7)\u001b[0m\n",
      "\u001b[38;20m2023-01-13 21:05:22,797 [MainThread  ] [INFO] {DataLoadCommand} Loaded data for the quoted instrument 'REMX.'                     DataFrame shape: (1259, 8)\u001b[0m\n",
      "\u001b[38;20m2023-01-13 21:05:22,798 [MainThread  ] [INFO] {Workflow} \t   ... Done. State: CommandState.SUCCESS.\u001b[0m\n",
      "\u001b[38;20m2023-01-13 21:05:22,798 [MainThread  ] [INFO] {Workflow} \t - executing workflow stage 02-data_tending ...\u001b[0m\n",
      "\u001b[38;20m2023-01-13 21:05:22,798 [MainThread  ] [INFO] {DataTendingCommand} Tending quoted instrument 'TSLA'...\u001b[0m\n",
      "\u001b[38;20m2023-01-13 21:05:22,799 [MainThread  ] [INFO] {DataTendingCommand} Localize datetime index of TSLA remote data DataFrame\u001b[0m\n",
      "\u001b[38;20m2023-01-13 21:05:22,800 [MainThread  ] [INFO] {DataTendingCommand} Localize datetime index of TSLA local data DataFrame\u001b[0m\n",
      "\u001b[38;20m2023-01-13 21:05:22,803 [MainThread  ] [INFO] {DataTendingCommand} Tended quoted instrument 'TSLA':             Column names: remote - Index(['open', 'high', 'low', 'close', 'volume'], dtype='object'), local - Index(['open', 'high', 'low', 'close', 'volume'], dtype='object')\u001b[0m\n",
      "\u001b[38;20m2023-01-13 21:05:22,803 [MainThread  ] [INFO] {DataTendingCommand} Tending quoted instrument '^NDX'...\u001b[0m\n",
      "\u001b[38;20m2023-01-13 21:05:22,804 [MainThread  ] [INFO] {DataTendingCommand} Localize datetime index of ^NDX remote data DataFrame\u001b[0m\n",
      "\u001b[38;20m2023-01-13 21:05:22,805 [MainThread  ] [INFO] {DataTendingCommand} Localize datetime index of ^NDX local data DataFrame\u001b[0m\n",
      "\u001b[38;20m2023-01-13 21:05:22,807 [MainThread  ] [INFO] {DataTendingCommand} Tended quoted instrument '^NDX':             Column names: remote - Index(['open', 'high', 'low', 'close', 'volume'], dtype='object'), local - Index(['open', 'high', 'low', 'close', 'volume'], dtype='object')\u001b[0m\n",
      "\u001b[38;20m2023-01-13 21:05:22,808 [MainThread  ] [INFO] {DataTendingCommand} Tending quoted instrument 'REMX'...\u001b[0m\n",
      "\u001b[38;20m2023-01-13 21:05:22,809 [MainThread  ] [INFO] {DataTendingCommand} Localize datetime index of REMX remote data DataFrame\u001b[0m\n",
      "\u001b[38;20m2023-01-13 21:05:22,809 [MainThread  ] [INFO] {DataTendingCommand} Localize datetime index of REMX local data DataFrame\u001b[0m\n",
      "\u001b[38;20m2023-01-13 21:05:22,812 [MainThread  ] [INFO] {DataTendingCommand} Tended quoted instrument 'REMX':             Column names: remote - Index(['open', 'high', 'low', 'close', 'volume'], dtype='object'), local - Index(['open', 'high', 'low', 'close', 'volume'], dtype='object')\u001b[0m\n",
      "\u001b[38;20m2023-01-13 21:05:22,812 [MainThread  ] [INFO] {Workflow} \t   ... Done. State: CommandState.SUCCESS.\u001b[0m\n",
      "\u001b[38;20m2023-01-13 21:05:22,813 [MainThread  ] [INFO] {Workflow} \t - executing workflow stage 03-eda_post_tending_command ...\u001b[0m\n",
      "\u001b[38;20m2023-01-13 21:05:22,813 [MainThread  ] [INFO] {AutoEdaCommand} Making EDA for raw dlm.ComplexData\u001b[0m\n",
      "\u001b[38;20m2023-01-13 21:05:22,813 [MainThread  ] [INFO] {AutoEdaCommand} [TSLA] Making EDA report ['01-eda_post_tending'], shape = (1259, 5) in the directory data/generated/eda/01-eda_post_tending/TSLA...\u001b[0m\n"
     ]
    },
    {
     "data": {
      "application/vnd.jupyter.widget-view+json": {
       "model_id": "db99d60d473a47d59f2f8efac6e212d2",
       "version_major": 2,
       "version_minor": 0
      },
      "text/plain": [
       "                                             |          | [  0%]   00:00 -> (? left)"
      ]
     },
     "metadata": {},
     "output_type": "display_data"
    },
    {
     "name": "stdout",
     "output_type": "stream",
     "text": [
      "Report data/generated/eda/01-eda_post_tending/TSLA/sweet-vis/eda.html was generated.\n"
     ]
    },
    {
     "data": {
      "application/vnd.jupyter.widget-view+json": {
       "model_id": "5ed8736bad6a4ffaaa6deb0c3b0bf4dc",
       "version_major": 2,
       "version_minor": 0
      },
      "text/plain": [
       "Summarize dataset:   0%|          | 0/5 [00:00<?, ?it/s]"
      ]
     },
     "metadata": {},
     "output_type": "display_data"
    },
    {
     "name": "stderr",
     "output_type": "stream",
     "text": [
      "/home/sorcerer/Projects/DataScience/Stock/Work/Dione/dione/lib/python3.10/site-packages/multimethod/__init__.py:315: FutureWarning: The 'mad' method is deprecated and will be removed in a future version. To compute the same result, you may do `(df - df.mean()).abs().mean()`.\n",
      "  return func(*args, **kwargs)\n",
      "/home/sorcerer/Projects/DataScience/Stock/Work/Dione/dione/lib/python3.10/site-packages/multimethod/__init__.py:315: FutureWarning: The 'mad' method is deprecated and will be removed in a future version. To compute the same result, you may do `(df - df.mean()).abs().mean()`.\n",
      "  return func(*args, **kwargs)\n",
      "/home/sorcerer/Projects/DataScience/Stock/Work/Dione/dione/lib/python3.10/site-packages/multimethod/__init__.py:315: FutureWarning: The 'mad' method is deprecated and will be removed in a future version. To compute the same result, you may do `(df - df.mean()).abs().mean()`.\n",
      "  return func(*args, **kwargs)\n",
      "/home/sorcerer/Projects/DataScience/Stock/Work/Dione/dione/lib/python3.10/site-packages/multimethod/__init__.py:315: FutureWarning: The 'mad' method is deprecated and will be removed in a future version. To compute the same result, you may do `(df - df.mean()).abs().mean()`.\n",
      "  return func(*args, **kwargs)\n",
      "/home/sorcerer/Projects/DataScience/Stock/Work/Dione/dione/lib/python3.10/site-packages/multimethod/__init__.py:315: FutureWarning: The 'mad' method is deprecated and will be removed in a future version. To compute the same result, you may do `(df - df.mean()).abs().mean()`.\n",
      "  return func(*args, **kwargs)\n"
     ]
    },
    {
     "data": {
      "application/vnd.jupyter.widget-view+json": {
       "model_id": "9595df61311b43ccb2734529da41b7bf",
       "version_major": 2,
       "version_minor": 0
      },
      "text/plain": [
       "Generate report structure:   0%|          | 0/1 [00:00<?, ?it/s]"
      ]
     },
     "metadata": {},
     "output_type": "display_data"
    },
    {
     "data": {
      "application/vnd.jupyter.widget-view+json": {
       "model_id": "446642634cea4cb7bbd92d058d56523d",
       "version_major": 2,
       "version_minor": 0
      },
      "text/plain": [
       "Render HTML:   0%|          | 0/1 [00:00<?, ?it/s]"
      ]
     },
     "metadata": {},
     "output_type": "display_data"
    },
    {
     "data": {
      "application/vnd.jupyter.widget-view+json": {
       "model_id": "20b38e750768457c961a250afadcc97b",
       "version_major": 2,
       "version_minor": 0
      },
      "text/plain": [
       "Export report to file:   0%|          | 0/1 [00:00<?, ?it/s]"
      ]
     },
     "metadata": {},
     "output_type": "display_data"
    },
    {
     "name": "stderr",
     "output_type": "stream",
     "text": [
      "\u001b[38;20m2023-01-13 21:05:28,895 [MainThread  ] [INFO] {AutoEdaCommand} [^NDX] Making EDA report ['01-eda_post_tending'], shape = (1259, 5) in the directory data/generated/eda/01-eda_post_tending/^NDX...\u001b[0m\n"
     ]
    },
    {
     "data": {
      "application/vnd.jupyter.widget-view+json": {
       "model_id": "2565c198aa6a4b19982dca3bd3a894ad",
       "version_major": 2,
       "version_minor": 0
      },
      "text/plain": [
       "                                             |          | [  0%]   00:00 -> (? left)"
      ]
     },
     "metadata": {},
     "output_type": "display_data"
    },
    {
     "name": "stdout",
     "output_type": "stream",
     "text": [
      "Report data/generated/eda/01-eda_post_tending/^NDX/sweet-vis/eda.html was generated.\n"
     ]
    },
    {
     "data": {
      "application/vnd.jupyter.widget-view+json": {
       "model_id": "eebeaaf9c3c84c10b3b43d8e1e6b315f",
       "version_major": 2,
       "version_minor": 0
      },
      "text/plain": [
       "Summarize dataset:   0%|          | 0/5 [00:00<?, ?it/s]"
      ]
     },
     "metadata": {},
     "output_type": "display_data"
    },
    {
     "name": "stderr",
     "output_type": "stream",
     "text": [
      "/home/sorcerer/Projects/DataScience/Stock/Work/Dione/dione/lib/python3.10/site-packages/multimethod/__init__.py:315: FutureWarning: The 'mad' method is deprecated and will be removed in a future version. To compute the same result, you may do `(df - df.mean()).abs().mean()`.\n",
      "  return func(*args, **kwargs)\n",
      "/home/sorcerer/Projects/DataScience/Stock/Work/Dione/dione/lib/python3.10/site-packages/multimethod/__init__.py:315: FutureWarning: The 'mad' method is deprecated and will be removed in a future version. To compute the same result, you may do `(df - df.mean()).abs().mean()`.\n",
      "  return func(*args, **kwargs)\n",
      "/home/sorcerer/Projects/DataScience/Stock/Work/Dione/dione/lib/python3.10/site-packages/multimethod/__init__.py:315: FutureWarning: The 'mad' method is deprecated and will be removed in a future version. To compute the same result, you may do `(df - df.mean()).abs().mean()`.\n",
      "  return func(*args, **kwargs)\n",
      "/home/sorcerer/Projects/DataScience/Stock/Work/Dione/dione/lib/python3.10/site-packages/multimethod/__init__.py:315: FutureWarning: The 'mad' method is deprecated and will be removed in a future version. To compute the same result, you may do `(df - df.mean()).abs().mean()`.\n",
      "  return func(*args, **kwargs)\n",
      "/home/sorcerer/Projects/DataScience/Stock/Work/Dione/dione/lib/python3.10/site-packages/multimethod/__init__.py:315: FutureWarning: The 'mad' method is deprecated and will be removed in a future version. To compute the same result, you may do `(df - df.mean()).abs().mean()`.\n",
      "  return func(*args, **kwargs)\n"
     ]
    },
    {
     "data": {
      "application/vnd.jupyter.widget-view+json": {
       "model_id": "f2813ab2bf934da5b5bef6e5790be7f9",
       "version_major": 2,
       "version_minor": 0
      },
      "text/plain": [
       "Generate report structure:   0%|          | 0/1 [00:00<?, ?it/s]"
      ]
     },
     "metadata": {},
     "output_type": "display_data"
    },
    {
     "data": {
      "application/vnd.jupyter.widget-view+json": {
       "model_id": "7537c0bfc30e4325ad6f9c7bbceb9a32",
       "version_major": 2,
       "version_minor": 0
      },
      "text/plain": [
       "Render HTML:   0%|          | 0/1 [00:00<?, ?it/s]"
      ]
     },
     "metadata": {},
     "output_type": "display_data"
    },
    {
     "data": {
      "application/vnd.jupyter.widget-view+json": {
       "model_id": "cac6f24aa92d4c62b144c60cb0fd5b88",
       "version_major": 2,
       "version_minor": 0
      },
      "text/plain": [
       "Export report to file:   0%|          | 0/1 [00:00<?, ?it/s]"
      ]
     },
     "metadata": {},
     "output_type": "display_data"
    },
    {
     "name": "stderr",
     "output_type": "stream",
     "text": [
      "\u001b[38;20m2023-01-13 21:05:34,565 [MainThread  ] [INFO] {AutoEdaCommand} [REMX] Making EDA report ['01-eda_post_tending'], shape = (1259, 5) in the directory data/generated/eda/01-eda_post_tending/REMX...\u001b[0m\n"
     ]
    },
    {
     "data": {
      "application/vnd.jupyter.widget-view+json": {
       "model_id": "cdbfdaee3f934068a99d3eaaa337bdf4",
       "version_major": 2,
       "version_minor": 0
      },
      "text/plain": [
       "                                             |          | [  0%]   00:00 -> (? left)"
      ]
     },
     "metadata": {},
     "output_type": "display_data"
    },
    {
     "name": "stdout",
     "output_type": "stream",
     "text": [
      "Report data/generated/eda/01-eda_post_tending/REMX/sweet-vis/eda.html was generated.\n"
     ]
    },
    {
     "data": {
      "application/vnd.jupyter.widget-view+json": {
       "model_id": "e64c82fdd5a046068346064e7ac9e44b",
       "version_major": 2,
       "version_minor": 0
      },
      "text/plain": [
       "Summarize dataset:   0%|          | 0/5 [00:00<?, ?it/s]"
      ]
     },
     "metadata": {},
     "output_type": "display_data"
    },
    {
     "name": "stderr",
     "output_type": "stream",
     "text": [
      "/home/sorcerer/Projects/DataScience/Stock/Work/Dione/dione/lib/python3.10/site-packages/multimethod/__init__.py:315: FutureWarning: The 'mad' method is deprecated and will be removed in a future version. To compute the same result, you may do `(df - df.mean()).abs().mean()`.\n",
      "  return func(*args, **kwargs)\n",
      "/home/sorcerer/Projects/DataScience/Stock/Work/Dione/dione/lib/python3.10/site-packages/multimethod/__init__.py:315: FutureWarning: The 'mad' method is deprecated and will be removed in a future version. To compute the same result, you may do `(df - df.mean()).abs().mean()`.\n",
      "  return func(*args, **kwargs)\n",
      "/home/sorcerer/Projects/DataScience/Stock/Work/Dione/dione/lib/python3.10/site-packages/multimethod/__init__.py:315: FutureWarning: The 'mad' method is deprecated and will be removed in a future version. To compute the same result, you may do `(df - df.mean()).abs().mean()`.\n",
      "  return func(*args, **kwargs)\n",
      "/home/sorcerer/Projects/DataScience/Stock/Work/Dione/dione/lib/python3.10/site-packages/multimethod/__init__.py:315: FutureWarning: The 'mad' method is deprecated and will be removed in a future version. To compute the same result, you may do `(df - df.mean()).abs().mean()`.\n",
      "  return func(*args, **kwargs)\n"
     ]
    },
    {
     "data": {
      "application/vnd.jupyter.widget-view+json": {
       "model_id": "23e5abdd558c425fa13bc4e1d331ed55",
       "version_major": 2,
       "version_minor": 0
      },
      "text/plain": [
       "Generate report structure:   0%|          | 0/1 [00:00<?, ?it/s]"
      ]
     },
     "metadata": {},
     "output_type": "display_data"
    },
    {
     "data": {
      "application/vnd.jupyter.widget-view+json": {
       "model_id": "090c73371ea24020a638db702e34a8e6",
       "version_major": 2,
       "version_minor": 0
      },
      "text/plain": [
       "Render HTML:   0%|          | 0/1 [00:00<?, ?it/s]"
      ]
     },
     "metadata": {},
     "output_type": "display_data"
    },
    {
     "data": {
      "application/vnd.jupyter.widget-view+json": {
       "model_id": "bb62e598afad41038f6838dc0b340fcf",
       "version_major": 2,
       "version_minor": 0
      },
      "text/plain": [
       "Export report to file:   0%|          | 0/1 [00:00<?, ?it/s]"
      ]
     },
     "metadata": {},
     "output_type": "display_data"
    },
    {
     "name": "stderr",
     "output_type": "stream",
     "text": [
      "\u001b[38;20m2023-01-13 21:05:40,135 [MainThread  ] [INFO] {AutoEdaCommand} Making joined EDA report ['01-eda_post_tending'] for all tickers...\u001b[0m\n",
      "\u001b[38;20m2023-01-13 21:05:40,136 [MainThread  ] [INFO] {AutoEdaCommand} [^NDX] Right joining... right_suffix = '_^NDX'\u001b[0m\n",
      "\u001b[38;20m2023-01-13 21:05:40,138 [MainThread  ] [INFO] {AutoEdaCommand} [REMX] Right joining... right_suffix = '_REMX'\u001b[0m\n",
      "\u001b[38;20m2023-01-13 21:05:40,145 [MainThread  ] [INFO] {AutoEdaCommand} Joined report column_types:\n",
      "None\u001b[0m\n"
     ]
    },
    {
     "name": "stdout",
     "output_type": "stream",
     "text": [
      "<class 'pandas.core.frame.DataFrame'>\n",
      "DatetimeIndex: 1259 entries, 2018-01-02 to 2022-12-30\n",
      "Data columns (total 15 columns):\n",
      " #   Column       Non-Null Count  Dtype  \n",
      "---  ------       --------------  -----  \n",
      " 0   open         1259 non-null   float64\n",
      " 1   high         1259 non-null   float64\n",
      " 2   low          1259 non-null   float64\n",
      " 3   close        1259 non-null   float64\n",
      " 4   volume       1259 non-null   float64\n",
      " 5   open_^NDX    1259 non-null   float64\n",
      " 6   high_^NDX    1259 non-null   float64\n",
      " 7   low_^NDX     1259 non-null   float64\n",
      " 8   close_^NDX   1259 non-null   float64\n",
      " 9   volume_^NDX  1259 non-null   float64\n",
      " 10  open_REMX    1259 non-null   float64\n",
      " 11  high_REMX    1259 non-null   float64\n",
      " 12  low_REMX     1259 non-null   float64\n",
      " 13  close_REMX   1259 non-null   float64\n",
      " 14  volume_REMX  1259 non-null   float64\n",
      "dtypes: float64(15)\n",
      "memory usage: 189.7 KB\n"
     ]
    },
    {
     "data": {
      "application/vnd.jupyter.widget-view+json": {
       "model_id": "ac7c0cdbdb7344eaa1d986668f667fff",
       "version_major": 2,
       "version_minor": 0
      },
      "text/plain": [
       "                                             |          | [  0%]   00:00 -> (? left)"
      ]
     },
     "metadata": {},
     "output_type": "display_data"
    },
    {
     "name": "stdout",
     "output_type": "stream",
     "text": [
      "Report data/generated/eda/01-eda_post_tending/joined_report/sweet-vis/eda.html was generated.\n"
     ]
    },
    {
     "data": {
      "application/vnd.jupyter.widget-view+json": {
       "model_id": "fb5a2257f6324408b62d258ac0b4a149",
       "version_major": 2,
       "version_minor": 0
      },
      "text/plain": [
       "Summarize dataset:   0%|          | 0/5 [00:00<?, ?it/s]"
      ]
     },
     "metadata": {},
     "output_type": "display_data"
    },
    {
     "data": {
      "application/vnd.jupyter.widget-view+json": {
       "model_id": "e1cafb3788374654aadc215501e96cbb",
       "version_major": 2,
       "version_minor": 0
      },
      "text/plain": [
       "Generate report structure:   0%|          | 0/1 [00:00<?, ?it/s]"
      ]
     },
     "metadata": {},
     "output_type": "display_data"
    },
    {
     "data": {
      "application/vnd.jupyter.widget-view+json": {
       "model_id": "5f78900705094b618d933a14ec0e3b28",
       "version_major": 2,
       "version_minor": 0
      },
      "text/plain": [
       "Render HTML:   0%|          | 0/1 [00:00<?, ?it/s]"
      ]
     },
     "metadata": {},
     "output_type": "display_data"
    },
    {
     "data": {
      "application/vnd.jupyter.widget-view+json": {
       "model_id": "d861a9c8ecb6468fb5b6f63e7563f1a1",
       "version_major": 2,
       "version_minor": 0
      },
      "text/plain": [
       "Export report to file:   0%|          | 0/1 [00:00<?, ?it/s]"
      ]
     },
     "metadata": {},
     "output_type": "display_data"
    },
    {
     "name": "stderr",
     "output_type": "stream",
     "text": [
      "\u001b[38;20m2023-01-13 21:05:58,030 [MainThread  ] [INFO] {Workflow} \t   ... Done. State: CommandState.SUCCESS.\u001b[0m\n",
      "\u001b[38;20m2023-01-13 21:05:58,032 [MainThread  ] [INFO] {Workflow} \t - executing workflow stage 04-check_dates_command ...\u001b[0m\n",
      "\u001b[38;20m2023-01-13 21:05:58,033 [MainThread  ] [INFO] {CheckDatesCommand} Checking dates for instrument 'TSLA'...\u001b[0m\n",
      "\u001b[38;20m2023-01-13 21:05:58,033 [MainThread  ] [INFO] {CheckDatesCommand} Checking dates for instrument '^NDX'...\u001b[0m\n",
      "\u001b[38;20m2023-01-13 21:05:58,034 [MainThread  ] [INFO] {CheckDatesCommand} Checking dates for instrument 'REMX'...\u001b[0m\n",
      "\u001b[38;20m2023-01-13 21:05:58,034 [MainThread  ] [INFO] {Workflow} \t   ... Done. State: CommandState.SUCCESS.\u001b[0m\n",
      "\u001b[38;20m2023-01-13 21:05:58,035 [MainThread  ] [INFO] {Workflow} \t - executing workflow stage 05-select_data_by_timerange_command ...\u001b[0m\n",
      "\u001b[38;20m2023-01-13 21:05:58,035 [MainThread  ] [INFO] {SelectDataByTimeRangeCommand} Executing SelectDataByTimeRangeCommand. Target time range: begin_time=datetime.datetime(2021, 12, 20, 0, 0) end_time=datetime.datetime(2022, 12, 30, 0, 0)\u001b[0m\n",
      "\u001b[38;20m2023-01-13 21:05:58,036 [MainThread  ] [INFO] {SelectDataByTimeRangeCommand} ['TSLA'] Selecting data... original time range:             2018-01-02 00:00:00 - 2022-12-30 00:00:00\u001b[0m\n",
      "\u001b[38;20m2023-01-13 21:05:58,037 [MainThread  ] [INFO] {SelectDataByTimeRangeCommand} ['TSLA'] Selected range: 2021-12-20 00:00:00 - 2022-12-30 00:00:00\u001b[0m\n",
      "\u001b[38;20m2023-01-13 21:05:58,037 [MainThread  ] [INFO] {SelectDataByTimeRangeCommand} ['^NDX'] Selecting data... original time range:             2018-01-02 00:00:00 - 2022-12-30 00:00:00\u001b[0m\n",
      "\u001b[38;20m2023-01-13 21:05:58,038 [MainThread  ] [INFO] {SelectDataByTimeRangeCommand} ['^NDX'] Selected range: 2021-12-20 00:00:00 - 2022-12-30 00:00:00\u001b[0m\n",
      "\u001b[38;20m2023-01-13 21:05:58,039 [MainThread  ] [INFO] {SelectDataByTimeRangeCommand} ['REMX'] Selecting data... original time range:             2018-01-02 00:00:00 - 2022-12-30 00:00:00\u001b[0m\n",
      "\u001b[38;20m2023-01-13 21:05:58,039 [MainThread  ] [INFO] {SelectDataByTimeRangeCommand} ['REMX'] Selected range: 2021-12-20 00:00:00 - 2022-12-30 00:00:00\u001b[0m\n",
      "\u001b[38;20m2023-01-13 21:05:58,040 [MainThread  ] [INFO] {Workflow} \t   ... Done. State: CommandState.SUCCESS.\u001b[0m\n",
      "\u001b[38;20m2023-01-13 21:05:58,040 [MainThread  ] [INFO] {Workflow} \t - executing workflow stage 06-clear_data_command ...\u001b[0m\n",
      "\u001b[38;20m2023-01-13 21:05:58,040 [MainThread  ] [INFO] {DataClearingCommand} Clearing/interpolating selected data...\u001b[0m\n",
      "\u001b[38;20m2023-01-13 21:05:58,042 [MainThread  ] [INFO] {DataClearingCommand} ['TSLA'] Clearing and interpolating data...\n",
      "            Begin time: 2021-12-20 00:00:00, End time: 2022-12-30 00:00:00;\n",
      "            Shape: (260, 5);\n",
      "            NaN rows:\n",
      "open      0\n",
      "high      0\n",
      "low       0\n",
      "close     0\n",
      "volume    0\n",
      "dtype: int64\u001b[0m\n",
      "\u001b[38;20m2023-01-13 21:05:58,044 [MainThread  ] [INFO] {DataClearingCommand} ['TSLA'] Reindexed data, timerange=begin_time=datetime.datetime(2021, 12, 20, 0, 0) end_time=datetime.datetime(2022, 12, 30, 0, 0)...\n",
      "            Index First date: 2021-12-20 00:00:00; Index Last date: 2022-12-30 00:00:00;\n",
      "            Begin time: 2021-12-20 00:00:00, End time: 2022-12-30 00:00:00;\n",
      "            Shape: (376, 5);\n",
      "            NaN rows:\n",
      "open      116\n",
      "high      116\n",
      "low       116\n",
      "close     116\n",
      "volume    116\n",
      "dtype: int64\u001b[0m\n",
      "\u001b[38;20m2023-01-13 21:05:58,045 [MainThread  ] [INFO] {DataClearingCommand} ['TSLA'] Interpolated data.\n",
      "            Begin time: 2021-12-20 00:00:00, End time: 2022-12-30 00:00:00'\n",
      "            Shape: (376, 5);\n",
      "            NaN rows:\n",
      "open      0\n",
      "high      0\n",
      "low       0\n",
      "close     0\n",
      "volume    0\n",
      "dtype: int64\u001b[0m\n",
      "\u001b[38;20m2023-01-13 21:05:58,046 [MainThread  ] [INFO] {DataClearingCommand} ['^NDX'] Clearing and interpolating data...\n",
      "            Begin time: 2021-12-20 00:00:00, End time: 2022-12-30 00:00:00;\n",
      "            Shape: (260, 5);\n",
      "            NaN rows:\n",
      "open      0\n",
      "high      0\n",
      "low       0\n",
      "close     0\n",
      "volume    0\n",
      "dtype: int64\u001b[0m\n",
      "\u001b[38;20m2023-01-13 21:05:58,048 [MainThread  ] [INFO] {DataClearingCommand} ['^NDX'] Reindexed data, timerange=begin_time=datetime.datetime(2021, 12, 20, 0, 0) end_time=datetime.datetime(2022, 12, 30, 0, 0)...\n",
      "            Index First date: 2021-12-20 00:00:00; Index Last date: 2022-12-30 00:00:00;\n",
      "            Begin time: 2021-12-20 00:00:00, End time: 2022-12-30 00:00:00;\n",
      "            Shape: (376, 5);\n",
      "            NaN rows:\n",
      "open      116\n",
      "high      116\n",
      "low       116\n",
      "close     116\n",
      "volume    116\n",
      "dtype: int64\u001b[0m\n",
      "\u001b[38;20m2023-01-13 21:05:58,049 [MainThread  ] [INFO] {DataClearingCommand} ['^NDX'] Interpolated data.\n",
      "            Begin time: 2021-12-20 00:00:00, End time: 2022-12-30 00:00:00'\n",
      "            Shape: (376, 5);\n",
      "            NaN rows:\n",
      "open      0\n",
      "high      0\n",
      "low       0\n",
      "close     0\n",
      "volume    0\n",
      "dtype: int64\u001b[0m\n",
      "\u001b[38;20m2023-01-13 21:05:58,050 [MainThread  ] [INFO] {DataClearingCommand} ['REMX'] Clearing and interpolating data...\n",
      "            Begin time: 2021-12-20 00:00:00, End time: 2022-12-30 00:00:00;\n",
      "            Shape: (260, 5);\n",
      "            NaN rows:\n",
      "open      0\n",
      "high      0\n",
      "low       0\n",
      "close     0\n",
      "volume    0\n",
      "dtype: int64\u001b[0m\n",
      "\u001b[38;20m2023-01-13 21:05:58,052 [MainThread  ] [INFO] {DataClearingCommand} ['REMX'] Reindexed data, timerange=begin_time=datetime.datetime(2021, 12, 20, 0, 0) end_time=datetime.datetime(2022, 12, 30, 0, 0)...\n",
      "            Index First date: 2021-12-20 00:00:00; Index Last date: 2022-12-30 00:00:00;\n",
      "            Begin time: 2021-12-20 00:00:00, End time: 2022-12-30 00:00:00;\n",
      "            Shape: (376, 5);\n",
      "            NaN rows:\n",
      "open      116\n",
      "high      116\n",
      "low       116\n",
      "close     116\n",
      "volume    116\n",
      "dtype: int64\u001b[0m\n",
      "\u001b[38;20m2023-01-13 21:05:58,053 [MainThread  ] [INFO] {DataClearingCommand} ['REMX'] Interpolated data.\n",
      "            Begin time: 2021-12-20 00:00:00, End time: 2022-12-30 00:00:00'\n",
      "            Shape: (376, 5);\n",
      "            NaN rows:\n",
      "open      0\n",
      "high      0\n",
      "low       0\n",
      "close     0\n",
      "volume    0\n",
      "dtype: int64\u001b[0m\n",
      "\u001b[38;20m2023-01-13 21:05:58,054 [MainThread  ] [INFO] {Workflow} \t   ... Done. State: CommandState.SUCCESS.\u001b[0m\n",
      "\u001b[38;20m2023-01-13 21:05:58,054 [MainThread  ] [INFO] {Workflow} \t - executing workflow stage 07-prepared_data_report_command ...\u001b[0m\n",
      "\u001b[38;20m2023-01-13 21:05:58,055 [MainThread  ] [INFO] {PreparedDataReportCommand} ['begin_time=datetime.datetime(2021, 12, 20, 0, 0) end_time=datetime.datetime(2022, 12, 30, 0, 0)'] Preparing report...\u001b[0m\n",
      "\u001b[38;20m2023-01-13 21:05:58,088 [MainThread  ] [INFO] {PreparedDataReportCommand} Report for prepared data.\n",
      "\n",
      "🔬 Research\n",
      "    name: Tesla Stock Price Time Series Prediction\n",
      "    description:\n",
      "        Based on the historical data of the Tesla stock prices and on other historical\n",
      "        data of some quoted instruments (aka exogeneous variables).\n",
      "\n",
      "🦾 Machine Learning\n",
      "    ⤇ begin time: 2021-12-20 00:00:00\n",
      "    ⥥ split date: 2022-12-20 00:00:00\n",
      "    ⤆ end time: 2022-12-30 00:00:00\n",
      "    ▒▒░▒ cross-validation strategy: sliding_window\n",
      "\n",
      "📈 Target Quoted Instrument - [TSLA]\n",
      "    ✅ ticker: TSLA\n",
      "    ✅ name:   Tesla, Inc.\n",
      "    ✅ description:\n",
      "        Tesla, Inc. engages in the design, development, manufacture, and sale of fully\n",
      "        electric vehicles and energy generation and storage systems.\n",
      "    ✅ Time range:\n",
      "        - begin time: 2021-12-20 00:00:00\n",
      "        - end time:   2022-12-30 00:00:00\n",
      "    ✅ Data shape: (376, 5)\n",
      "    ✅ Number of missing values: 0\n",
      "    ✅ Statistics:\n",
      "             open        high         low       close        volume\n",
      "count  376.000000  376.000000  376.000000  376.000000  3.760000e+02\n",
      "mean   266.849379  273.084167  259.190354  265.752642  8.572739e+07\n",
      "std     57.973465   59.012002   56.955900   58.151496  2.834863e+07\n",
      "min    110.349998  116.269997  108.239998  109.099998  4.073370e+07\n",
      "25%    226.152500  230.507504  218.320000  226.720001  6.699960e+07\n",
      "50%    277.186676  282.350006  267.805008  274.131668  8.031765e+07\n",
      "75%    302.670013  311.244179  295.600006  303.350006  9.753660e+07\n",
      "max    396.516663  402.666656  378.679993  399.926666  2.219233e+08\n",
      "--------------------------------\n",
      "\n",
      "🗃️ Quoted Instruments\n",
      "    📈 Instrument - [^NDX]\n",
      "        ✅ ticker: ^NDX\n",
      "        ✅ name:   NASDAQ-100\n",
      "        ✅ description:\n",
      "            The index of today's modern-day industrials—comprised of 100 of the largest and\n",
      "            most innovative non-financial companies listed on the Nasdaq Stock\n",
      "            Market based on market capitalization.\n",
      "        ✅ Time range:\n",
      "            - begin time: 2021-12-20 00:00:00\n",
      "            - end time:   2022-12-30 00:00:00\n",
      "        ✅ Data shape: (376, 5)\n",
      "        ✅ Number of missing values: 0\n",
      "        ✅ Statistics:\n",
      "               open          high           low         close        volume\n",
      "count    376.000000    376.000000    376.000000    376.000000  3.760000e+02\n",
      "mean   12887.697689  13024.280479  12725.537881  12874.484578  4.944411e+09\n",
      "std     1506.921893   1506.384883   1492.184584   1499.923003  9.217145e+08\n",
      "min    10481.580078  10852.179688  10440.639648  10679.339844  2.184080e+09\n",
      "25%    11604.360352  11777.512695  11518.405029  11676.979736  4.431138e+09\n",
      "50%    12492.544922  12662.860352  12405.290039  12556.229980  4.735955e+09\n",
      "75%    14091.309570  14235.389648  13884.820312  14009.540039  5.237535e+09\n",
      "max    16602.919922  16607.189453  16458.490234  16567.500000  9.468130e+09\n",
      "--------------------------------\n",
      "    📈 Instrument - [REMX]\n",
      "        ✅ ticker: REMX\n",
      "        ✅ name:   VanEck Rare Earth/Strategic Metals ETF\n",
      "        ✅ description:\n",
      "            VanEck Rare Earth/Strategic Metals ETF (REMX®) seeks to replicate as closely as\n",
      "            possible, before fees and expenses, the price and yield performance\n",
      "            of the MVIS®Global Rare Earth/Strategic Metals Index (MVREMXTR),\n",
      "            which is intended to track the overall performance of companies\n",
      "            involved in producing, refining, and recycling of rare earth and\n",
      "            strategic metals and minerals.\n",
      "        ✅ Time range:\n",
      "            - begin time: 2021-12-20 00:00:00\n",
      "            - end time:   2022-12-30 00:00:00\n",
      "        ✅ Data shape: (376, 5)\n",
      "        ✅ Number of missing values: 0\n",
      "        ✅ Statistics:\n",
      "             open        high         low       close         volume\n",
      "count  376.000000  376.000000  376.000000  376.000000     376.000000\n",
      "mean    95.600182   96.892362   94.093214   95.520973  145207.712766\n",
      "std     10.319079   10.335604   10.224595   10.362605   78342.850729\n",
      "min     75.639999   76.500000   74.650002   75.000000   31300.000000\n",
      "25%     87.680987   88.701103   85.978320   87.345871   86300.000000\n",
      "50%     94.742969   96.295325   93.042770   94.609913  131750.000000\n",
      "75%    103.559364  104.372508  101.223434  103.194679  183650.000000\n",
      "max    124.277151  125.666881  123.242250  125.578178  589000.000000\n",
      "--------------------------------\n",
      "    \u001b[0m\n",
      "\u001b[38;20m2023-01-13 21:05:58,090 [MainThread  ] [INFO] {Workflow} \t   ... Done. State: CommandState.SUCCESS.\u001b[0m\n",
      "\u001b[38;20m2023-01-13 21:05:58,090 [MainThread  ] [INFO] {Workflow} \t - executing workflow stage 08-treat_data_command ...\u001b[0m\n",
      "\u001b[38;20m2023-01-13 21:05:58,091 [MainThread  ] [INFO] {DataTreatingCommand} [TSLA] Trying to treat data...\u001b[0m\n",
      "\u001b[38;20m2023-01-13 21:05:58,091 [MainThread  ] [INFO] {DataTreatingCommand} [TSLA] Dimensionality reduction selected...\u001b[0m\n",
      "\u001b[38;20m2023-01-13 21:05:58,092 [MainThread  ] [INFO] {DataTreatingCommand} [TSLA] Dimensionality reduction selected... None...\u001b[0m\n",
      "\u001b[38;20m2023-01-13 21:05:58,092 [MainThread  ] [INFO] {DataTreatingCommand} [^NDX] Trying to treat data...\u001b[0m\n",
      "\u001b[38;20m2023-01-13 21:05:58,092 [MainThread  ] [INFO] {DataTreatingCommand} [^NDX] Dimensionality reduction selected...\u001b[0m\n",
      "\u001b[38;20m2023-01-13 21:05:58,093 [MainThread  ] [INFO] {DataTreatingCommand} [^NDX] Dimensionality reduction selected... OHLC...\u001b[0m\n",
      "\u001b[38;20m2023-01-13 21:05:58,093 [MainThread  ] [INFO] {DataTreatingCommand} [^NDX][dimentionality_reduction][OHLC] All columns: ['open', 'high', 'low', 'close', 'volume']\u001b[0m\n",
      "\u001b[38;20m2023-01-13 21:05:58,094 [MainThread  ] [INFO] {DataTreatingCommand} [^NDX][dimentionality_reduction][OHLC] columns:             open, high, low, close\u001b[0m\n",
      "\u001b[38;20m2023-01-13 21:05:58,096 [MainThread  ] [INFO] {DataTreatingCommand} [^NDX][dimentionality_reduction][OHLC] Complete. Columns: Index(['volume', 'ohlc'], dtype='object')\u001b[0m\n",
      "\u001b[38;20m2023-01-13 21:05:58,097 [MainThread  ] [INFO] {DataTreatingCommand} [REMX] Trying to treat data...\u001b[0m\n",
      "\u001b[38;20m2023-01-13 21:05:58,097 [MainThread  ] [INFO] {DataTreatingCommand} [REMX] Dimensionality reduction selected...\u001b[0m\n",
      "\u001b[38;20m2023-01-13 21:05:58,098 [MainThread  ] [INFO] {DataTreatingCommand} [REMX] Dimensionality reduction selected... OHLC...\u001b[0m\n",
      "\u001b[38;20m2023-01-13 21:05:58,098 [MainThread  ] [INFO] {DataTreatingCommand} [REMX][dimentionality_reduction][OHLC] All columns: ['open', 'high', 'low', 'close', 'volume']\u001b[0m\n",
      "\u001b[38;20m2023-01-13 21:05:58,099 [MainThread  ] [INFO] {DataTreatingCommand} [REMX][dimentionality_reduction][OHLC] columns:             open, high, low, close\u001b[0m\n",
      "\u001b[38;20m2023-01-13 21:05:58,102 [MainThread  ] [INFO] {DataTreatingCommand} [REMX][dimentionality_reduction][OHLC] Complete. Columns: Index(['volume', 'ohlc'], dtype='object')\u001b[0m\n",
      "\u001b[38;20m2023-01-13 21:05:58,102 [MainThread  ] [INFO] {Workflow} \t   ... Done. State: CommandState.SUCCESS.\u001b[0m\n",
      "\u001b[38;20m2023-01-13 21:05:58,103 [MainThread  ] [INFO] {Workflow} \t - executing workflow stage 09-eda_post_treating_command ...\u001b[0m\n",
      "\u001b[38;20m2023-01-13 21:05:58,104 [MainThread  ] [INFO] {AutoEdaCommand} Making EDA for pd.DataFrame(s)\u001b[0m\n",
      "\u001b[38;20m2023-01-13 21:05:58,104 [MainThread  ] [INFO] {AutoEdaCommand} [TSLA] Making EDA report ['09-eda_post_treating'], shape = (376, 5) in the directory data/generated/eda/09-eda_post_treating/TSLA...\u001b[0m\n"
     ]
    },
    {
     "data": {
      "application/vnd.jupyter.widget-view+json": {
       "model_id": "99723278f4f74bd58ef827b75c777282",
       "version_major": 2,
       "version_minor": 0
      },
      "text/plain": [
       "                                             |          | [  0%]   00:00 -> (? left)"
      ]
     },
     "metadata": {},
     "output_type": "display_data"
    },
    {
     "name": "stdout",
     "output_type": "stream",
     "text": [
      "Report data/generated/eda/09-eda_post_treating/TSLA/sweet-vis/eda.html was generated.\n"
     ]
    },
    {
     "data": {
      "application/vnd.jupyter.widget-view+json": {
       "model_id": "15bfe9b68a674d1bac696ad240dc6c27",
       "version_major": 2,
       "version_minor": 0
      },
      "text/plain": [
       "Summarize dataset:   0%|          | 0/5 [00:00<?, ?it/s]"
      ]
     },
     "metadata": {},
     "output_type": "display_data"
    },
    {
     "name": "stderr",
     "output_type": "stream",
     "text": [
      "/home/sorcerer/Projects/DataScience/Stock/Work/Dione/dione/lib/python3.10/site-packages/multimethod/__init__.py:315: FutureWarning: The 'mad' method is deprecated and will be removed in a future version. To compute the same result, you may do `(df - df.mean()).abs().mean()`.\n",
      "  return func(*args, **kwargs)\n",
      "/home/sorcerer/Projects/DataScience/Stock/Work/Dione/dione/lib/python3.10/site-packages/multimethod/__init__.py:315: FutureWarning: The 'mad' method is deprecated and will be removed in a future version. To compute the same result, you may do `(df - df.mean()).abs().mean()`.\n",
      "  return func(*args, **kwargs)\n",
      "/home/sorcerer/Projects/DataScience/Stock/Work/Dione/dione/lib/python3.10/site-packages/multimethod/__init__.py:315: FutureWarning: The 'mad' method is deprecated and will be removed in a future version. To compute the same result, you may do `(df - df.mean()).abs().mean()`.\n",
      "  return func(*args, **kwargs)\n",
      "/home/sorcerer/Projects/DataScience/Stock/Work/Dione/dione/lib/python3.10/site-packages/multimethod/__init__.py:315: FutureWarning: The 'mad' method is deprecated and will be removed in a future version. To compute the same result, you may do `(df - df.mean()).abs().mean()`.\n",
      "  return func(*args, **kwargs)\n",
      "/home/sorcerer/Projects/DataScience/Stock/Work/Dione/dione/lib/python3.10/site-packages/multimethod/__init__.py:315: FutureWarning: The 'mad' method is deprecated and will be removed in a future version. To compute the same result, you may do `(df - df.mean()).abs().mean()`.\n",
      "  return func(*args, **kwargs)\n"
     ]
    },
    {
     "data": {
      "application/vnd.jupyter.widget-view+json": {
       "model_id": "d36505dc13d743b9b89fdfb511312f90",
       "version_major": 2,
       "version_minor": 0
      },
      "text/plain": [
       "Generate report structure:   0%|          | 0/1 [00:00<?, ?it/s]"
      ]
     },
     "metadata": {},
     "output_type": "display_data"
    },
    {
     "data": {
      "application/vnd.jupyter.widget-view+json": {
       "model_id": "e0fdc823d29a417693f60ec9f280086a",
       "version_major": 2,
       "version_minor": 0
      },
      "text/plain": [
       "Render HTML:   0%|          | 0/1 [00:00<?, ?it/s]"
      ]
     },
     "metadata": {},
     "output_type": "display_data"
    },
    {
     "data": {
      "application/vnd.jupyter.widget-view+json": {
       "model_id": "9fe6809ae2194dc3b2b50e7055848bb9",
       "version_major": 2,
       "version_minor": 0
      },
      "text/plain": [
       "Export report to file:   0%|          | 0/1 [00:00<?, ?it/s]"
      ]
     },
     "metadata": {},
     "output_type": "display_data"
    },
    {
     "name": "stderr",
     "output_type": "stream",
     "text": [
      "\u001b[38;20m2023-01-13 21:06:04,031 [MainThread  ] [INFO] {AutoEdaCommand} [^NDX] Making EDA report ['09-eda_post_treating'], shape = (376, 2) in the directory data/generated/eda/09-eda_post_treating/^NDX...\u001b[0m\n"
     ]
    },
    {
     "data": {
      "application/vnd.jupyter.widget-view+json": {
       "model_id": "8ffe0b9c0ec74de48fc4d1720049be1f",
       "version_major": 2,
       "version_minor": 0
      },
      "text/plain": [
       "                                             |          | [  0%]   00:00 -> (? left)"
      ]
     },
     "metadata": {},
     "output_type": "display_data"
    },
    {
     "name": "stdout",
     "output_type": "stream",
     "text": [
      "Report data/generated/eda/09-eda_post_treating/^NDX/sweet-vis/eda.html was generated.\n"
     ]
    },
    {
     "data": {
      "application/vnd.jupyter.widget-view+json": {
       "model_id": "6d3640159b444ac39efd5e8a3519c443",
       "version_major": 2,
       "version_minor": 0
      },
      "text/plain": [
       "Summarize dataset:   0%|          | 0/5 [00:00<?, ?it/s]"
      ]
     },
     "metadata": {},
     "output_type": "display_data"
    },
    {
     "name": "stderr",
     "output_type": "stream",
     "text": [
      "/home/sorcerer/Projects/DataScience/Stock/Work/Dione/dione/lib/python3.10/site-packages/multimethod/__init__.py:315: FutureWarning: The 'mad' method is deprecated and will be removed in a future version. To compute the same result, you may do `(df - df.mean()).abs().mean()`.\n",
      "  return func(*args, **kwargs)\n",
      "/home/sorcerer/Projects/DataScience/Stock/Work/Dione/dione/lib/python3.10/site-packages/multimethod/__init__.py:315: FutureWarning: The 'mad' method is deprecated and will be removed in a future version. To compute the same result, you may do `(df - df.mean()).abs().mean()`.\n",
      "  return func(*args, **kwargs)\n"
     ]
    },
    {
     "data": {
      "application/vnd.jupyter.widget-view+json": {
       "model_id": "f6376b64e9a34fe7942fd3d611894f17",
       "version_major": 2,
       "version_minor": 0
      },
      "text/plain": [
       "Generate report structure:   0%|          | 0/1 [00:00<?, ?it/s]"
      ]
     },
     "metadata": {},
     "output_type": "display_data"
    },
    {
     "data": {
      "application/vnd.jupyter.widget-view+json": {
       "model_id": "8eb48b325b9745cebadad015ec4b8075",
       "version_major": 2,
       "version_minor": 0
      },
      "text/plain": [
       "Render HTML:   0%|          | 0/1 [00:00<?, ?it/s]"
      ]
     },
     "metadata": {},
     "output_type": "display_data"
    },
    {
     "data": {
      "application/vnd.jupyter.widget-view+json": {
       "model_id": "6f720e5413c44d4ea4e9418a9d567a50",
       "version_major": 2,
       "version_minor": 0
      },
      "text/plain": [
       "Export report to file:   0%|          | 0/1 [00:00<?, ?it/s]"
      ]
     },
     "metadata": {},
     "output_type": "display_data"
    },
    {
     "name": "stderr",
     "output_type": "stream",
     "text": [
      "\u001b[38;20m2023-01-13 21:06:06,435 [MainThread  ] [INFO] {AutoEdaCommand} [REMX] Making EDA report ['09-eda_post_treating'], shape = (376, 2) in the directory data/generated/eda/09-eda_post_treating/REMX...\u001b[0m\n"
     ]
    },
    {
     "data": {
      "application/vnd.jupyter.widget-view+json": {
       "model_id": "285df6490a084067ae5278ce5c80eb04",
       "version_major": 2,
       "version_minor": 0
      },
      "text/plain": [
       "                                             |          | [  0%]   00:00 -> (? left)"
      ]
     },
     "metadata": {},
     "output_type": "display_data"
    },
    {
     "name": "stdout",
     "output_type": "stream",
     "text": [
      "Report data/generated/eda/09-eda_post_treating/REMX/sweet-vis/eda.html was generated.\n"
     ]
    },
    {
     "data": {
      "application/vnd.jupyter.widget-view+json": {
       "model_id": "218c537ebbee4472ac219a9b72e6f119",
       "version_major": 2,
       "version_minor": 0
      },
      "text/plain": [
       "Summarize dataset:   0%|          | 0/5 [00:00<?, ?it/s]"
      ]
     },
     "metadata": {},
     "output_type": "display_data"
    },
    {
     "name": "stderr",
     "output_type": "stream",
     "text": [
      "/home/sorcerer/Projects/DataScience/Stock/Work/Dione/dione/lib/python3.10/site-packages/multimethod/__init__.py:315: FutureWarning: The 'mad' method is deprecated and will be removed in a future version. To compute the same result, you may do `(df - df.mean()).abs().mean()`.\n",
      "  return func(*args, **kwargs)\n"
     ]
    },
    {
     "data": {
      "application/vnd.jupyter.widget-view+json": {
       "model_id": "7f0d22d005544585909c5e9b2c562abd",
       "version_major": 2,
       "version_minor": 0
      },
      "text/plain": [
       "Generate report structure:   0%|          | 0/1 [00:00<?, ?it/s]"
      ]
     },
     "metadata": {},
     "output_type": "display_data"
    },
    {
     "data": {
      "application/vnd.jupyter.widget-view+json": {
       "model_id": "bd67af58bf234a6ca5c130a91239e516",
       "version_major": 2,
       "version_minor": 0
      },
      "text/plain": [
       "Render HTML:   0%|          | 0/1 [00:00<?, ?it/s]"
      ]
     },
     "metadata": {},
     "output_type": "display_data"
    },
    {
     "data": {
      "application/vnd.jupyter.widget-view+json": {
       "model_id": "54946d9673bc46ad9545087395067cb0",
       "version_major": 2,
       "version_minor": 0
      },
      "text/plain": [
       "Export report to file:   0%|          | 0/1 [00:00<?, ?it/s]"
      ]
     },
     "metadata": {},
     "output_type": "display_data"
    },
    {
     "name": "stderr",
     "output_type": "stream",
     "text": [
      "\u001b[38;20m2023-01-13 21:06:08,717 [MainThread  ] [INFO] {AutoEdaCommand} Making joined EDA report ['09-eda_post_treating'] for all tickers...\u001b[0m\n",
      "\u001b[38;20m2023-01-13 21:06:08,718 [MainThread  ] [INFO] {AutoEdaCommand} [^NDX] Right joining... right_suffix = '_^NDX'\u001b[0m\n",
      "\u001b[38;20m2023-01-13 21:06:08,720 [MainThread  ] [INFO] {AutoEdaCommand} [REMX] Right joining... right_suffix = '_REMX'\u001b[0m\n",
      "\u001b[38;20m2023-01-13 21:06:08,725 [MainThread  ] [INFO] {AutoEdaCommand} Joined report column_types:\n",
      "None\u001b[0m\n"
     ]
    },
    {
     "name": "stdout",
     "output_type": "stream",
     "text": [
      "<class 'pandas.core.frame.DataFrame'>\n",
      "DatetimeIndex: 376 entries, 2021-12-20 to 2022-12-30\n",
      "Freq: D\n",
      "Data columns (total 9 columns):\n",
      " #   Column       Non-Null Count  Dtype  \n",
      "---  ------       --------------  -----  \n",
      " 0   open         376 non-null    float64\n",
      " 1   high         376 non-null    float64\n",
      " 2   low          376 non-null    float64\n",
      " 3   close        376 non-null    float64\n",
      " 4   volume       376 non-null    float64\n",
      " 5   volume_^NDX  376 non-null    float64\n",
      " 6   ohlc_^NDX    376 non-null    float64\n",
      " 7   volume_REMX  376 non-null    float64\n",
      " 8   ohlc_REMX    376 non-null    float64\n",
      "dtypes: float64(9)\n",
      "memory usage: 29.4 KB\n"
     ]
    },
    {
     "data": {
      "application/vnd.jupyter.widget-view+json": {
       "model_id": "d0595483848e4246a186f6eed5ed1df5",
       "version_major": 2,
       "version_minor": 0
      },
      "text/plain": [
       "                                             |          | [  0%]   00:00 -> (? left)"
      ]
     },
     "metadata": {},
     "output_type": "display_data"
    },
    {
     "name": "stdout",
     "output_type": "stream",
     "text": [
      "Report data/generated/eda/09-eda_post_treating/joined_report/sweet-vis/eda.html was generated.\n"
     ]
    },
    {
     "data": {
      "application/vnd.jupyter.widget-view+json": {
       "model_id": "6a0e52250d524584a2b3cd8070f955b4",
       "version_major": 2,
       "version_minor": 0
      },
      "text/plain": [
       "Summarize dataset:   0%|          | 0/5 [00:00<?, ?it/s]"
      ]
     },
     "metadata": {},
     "output_type": "display_data"
    },
    {
     "data": {
      "application/vnd.jupyter.widget-view+json": {
       "model_id": "b9e60e7087d640a4bfefb468d999b2c5",
       "version_major": 2,
       "version_minor": 0
      },
      "text/plain": [
       "Generate report structure:   0%|          | 0/1 [00:00<?, ?it/s]"
      ]
     },
     "metadata": {},
     "output_type": "display_data"
    },
    {
     "data": {
      "application/vnd.jupyter.widget-view+json": {
       "model_id": "472e313e644b4cbab0403b12b2235bdb",
       "version_major": 2,
       "version_minor": 0
      },
      "text/plain": [
       "Render HTML:   0%|          | 0/1 [00:00<?, ?it/s]"
      ]
     },
     "metadata": {},
     "output_type": "display_data"
    },
    {
     "data": {
      "application/vnd.jupyter.widget-view+json": {
       "model_id": "1b78dc62d35d4ffdac48b2570210c49c",
       "version_major": 2,
       "version_minor": 0
      },
      "text/plain": [
       "Export report to file:   0%|          | 0/1 [00:00<?, ?it/s]"
      ]
     },
     "metadata": {},
     "output_type": "display_data"
    },
    {
     "name": "stderr",
     "output_type": "stream",
     "text": [
      "\u001b[38;20m2023-01-13 21:06:18,735 [MainThread  ] [INFO] {Workflow} \t   ... Done. State: CommandState.SUCCESS.\u001b[0m\n"
     ]
    }
   ],
   "source": [
    "workflow.execute_next_stage(workflow_context)\n",
    "workflow.execute_next_stage(workflow_context)\n",
    "workflow.execute_next_stage(workflow_context)\n",
    "workflow.execute_next_stage(workflow_context)\n",
    "workflow.execute_next_stage(workflow_context)\n",
    "workflow.execute_next_stage(workflow_context)\n",
    "workflow.execute_next_stage(workflow_context)\n",
    "workflow.execute_next_stage(workflow_context)\n",
    "workflow.execute_next_stage(workflow_context)"
   ]
  },
  {
   "cell_type": "code",
   "execution_count": 3,
   "metadata": {},
   "outputs": [
    {
     "data": {
      "text/plain": [
       "dict_keys(['config', 'data', 'selected-data'])"
      ]
     },
     "execution_count": 3,
     "metadata": {},
     "output_type": "execute_result"
    }
   ],
   "source": [
    "workflow_context.keys()"
   ]
  },
  {
   "cell_type": "code",
   "execution_count": 4,
   "metadata": {},
   "outputs": [
    {
     "data": {
      "text/plain": [
       "odict_keys(['TSLA', '^NDX', 'REMX'])"
      ]
     },
     "execution_count": 4,
     "metadata": {},
     "output_type": "execute_result"
    }
   ],
   "source": [
    "workflow_context['selected-data'].keys()"
   ]
  },
  {
   "cell_type": "code",
   "execution_count": 5,
   "metadata": {},
   "outputs": [
    {
     "data": {
      "text/html": [
       "<div>\n",
       "<style scoped>\n",
       "    .dataframe tbody tr th:only-of-type {\n",
       "        vertical-align: middle;\n",
       "    }\n",
       "\n",
       "    .dataframe tbody tr th {\n",
       "        vertical-align: top;\n",
       "    }\n",
       "\n",
       "    .dataframe thead th {\n",
       "        text-align: right;\n",
       "    }\n",
       "</style>\n",
       "<table border=\"1\" class=\"dataframe\">\n",
       "  <thead>\n",
       "    <tr style=\"text-align: right;\">\n",
       "      <th></th>\n",
       "      <th>open</th>\n",
       "      <th>high</th>\n",
       "      <th>low</th>\n",
       "      <th>close</th>\n",
       "      <th>volume</th>\n",
       "    </tr>\n",
       "  </thead>\n",
       "  <tbody>\n",
       "    <tr>\n",
       "      <th>2021-12-20</th>\n",
       "      <td>303.566681</td>\n",
       "      <td>307.230011</td>\n",
       "      <td>297.796661</td>\n",
       "      <td>299.980011</td>\n",
       "      <td>56480100.0</td>\n",
       "    </tr>\n",
       "    <tr>\n",
       "      <th>2021-12-21</th>\n",
       "      <td>305.623322</td>\n",
       "      <td>313.166656</td>\n",
       "      <td>295.373322</td>\n",
       "      <td>312.843323</td>\n",
       "      <td>71517900.0</td>\n",
       "    </tr>\n",
       "    <tr>\n",
       "      <th>2021-12-22</th>\n",
       "      <td>321.886658</td>\n",
       "      <td>338.553345</td>\n",
       "      <td>319.016663</td>\n",
       "      <td>336.290009</td>\n",
       "      <td>93634200.0</td>\n",
       "    </tr>\n",
       "    <tr>\n",
       "      <th>2021-12-23</th>\n",
       "      <td>335.600006</td>\n",
       "      <td>357.660004</td>\n",
       "      <td>332.519989</td>\n",
       "      <td>355.666656</td>\n",
       "      <td>92713200.0</td>\n",
       "    </tr>\n",
       "    <tr>\n",
       "      <th>2021-12-24</th>\n",
       "      <td>335.600006</td>\n",
       "      <td>357.660004</td>\n",
       "      <td>332.519989</td>\n",
       "      <td>355.666656</td>\n",
       "      <td>92713200.0</td>\n",
       "    </tr>\n",
       "  </tbody>\n",
       "</table>\n",
       "</div>"
      ],
      "text/plain": [
       "                  open        high         low       close      volume\n",
       "2021-12-20  303.566681  307.230011  297.796661  299.980011  56480100.0\n",
       "2021-12-21  305.623322  313.166656  295.373322  312.843323  71517900.0\n",
       "2021-12-22  321.886658  338.553345  319.016663  336.290009  93634200.0\n",
       "2021-12-23  335.600006  357.660004  332.519989  355.666656  92713200.0\n",
       "2021-12-24  335.600006  357.660004  332.519989  355.666656  92713200.0"
      ]
     },
     "execution_count": 5,
     "metadata": {},
     "output_type": "execute_result"
    }
   ],
   "source": [
    "workflow_context['selected-data']['TSLA'].head()"
   ]
  },
  {
   "cell_type": "code",
   "execution_count": 6,
   "metadata": {},
   "outputs": [
    {
     "name": "stdout",
     "output_type": "stream",
     "text": [
      "<class 'pandas.core.frame.DataFrame'>\n",
      "DatetimeIndex: 376 entries, 2021-12-20 to 2022-12-30\n",
      "Freq: D\n",
      "Data columns (total 5 columns):\n",
      " #   Column  Non-Null Count  Dtype  \n",
      "---  ------  --------------  -----  \n",
      " 0   open    376 non-null    float64\n",
      " 1   high    376 non-null    float64\n",
      " 2   low     376 non-null    float64\n",
      " 3   close   376 non-null    float64\n",
      " 4   volume  376 non-null    float64\n",
      "dtypes: float64(5)\n",
      "memory usage: 17.6 KB\n"
     ]
    }
   ],
   "source": [
    "workflow_context['selected-data']['TSLA'].info()"
   ]
  },
  {
   "cell_type": "code",
   "execution_count": 16,
   "metadata": {},
   "outputs": [
    {
     "data": {
      "text/html": [
       "<div>\n",
       "<style scoped>\n",
       "    .dataframe tbody tr th:only-of-type {\n",
       "        vertical-align: middle;\n",
       "    }\n",
       "\n",
       "    .dataframe tbody tr th {\n",
       "        vertical-align: top;\n",
       "    }\n",
       "\n",
       "    .dataframe thead th {\n",
       "        text-align: right;\n",
       "    }\n",
       "</style>\n",
       "<table border=\"1\" class=\"dataframe\">\n",
       "  <thead>\n",
       "    <tr style=\"text-align: right;\">\n",
       "      <th></th>\n",
       "      <th>open</th>\n",
       "      <th>high</th>\n",
       "      <th>low</th>\n",
       "      <th>close</th>\n",
       "      <th>volume</th>\n",
       "    </tr>\n",
       "  </thead>\n",
       "  <tbody>\n",
       "    <tr>\n",
       "      <th>2022-05-01</th>\n",
       "      <td>300.750000</td>\n",
       "      <td>311.466675</td>\n",
       "      <td>290.000000</td>\n",
       "      <td>290.253326</td>\n",
       "      <td>88133100.0</td>\n",
       "    </tr>\n",
       "    <tr>\n",
       "      <th>2022-05-02</th>\n",
       "      <td>286.923340</td>\n",
       "      <td>302.119995</td>\n",
       "      <td>282.676666</td>\n",
       "      <td>300.980011</td>\n",
       "      <td>75781500.0</td>\n",
       "    </tr>\n",
       "    <tr>\n",
       "      <th>2022-05-03</th>\n",
       "      <td>301.059998</td>\n",
       "      <td>308.026672</td>\n",
       "      <td>296.196655</td>\n",
       "      <td>303.083344</td>\n",
       "      <td>63709500.0</td>\n",
       "    </tr>\n",
       "    <tr>\n",
       "      <th>2022-05-04</th>\n",
       "      <td>301.313324</td>\n",
       "      <td>318.500000</td>\n",
       "      <td>295.093323</td>\n",
       "      <td>317.540009</td>\n",
       "      <td>81643800.0</td>\n",
       "    </tr>\n",
       "    <tr>\n",
       "      <th>2022-05-05</th>\n",
       "      <td>313.006653</td>\n",
       "      <td>315.200012</td>\n",
       "      <td>285.899994</td>\n",
       "      <td>291.093323</td>\n",
       "      <td>92519100.0</td>\n",
       "    </tr>\n",
       "    <tr>\n",
       "      <th>...</th>\n",
       "      <td>...</td>\n",
       "      <td>...</td>\n",
       "      <td>...</td>\n",
       "      <td>...</td>\n",
       "      <td>...</td>\n",
       "    </tr>\n",
       "    <tr>\n",
       "      <th>2022-07-28</th>\n",
       "      <td>280.066681</td>\n",
       "      <td>283.299988</td>\n",
       "      <td>272.799988</td>\n",
       "      <td>280.899994</td>\n",
       "      <td>84723000.0</td>\n",
       "    </tr>\n",
       "    <tr>\n",
       "      <th>2022-07-29</th>\n",
       "      <td>280.700012</td>\n",
       "      <td>298.320007</td>\n",
       "      <td>279.100006</td>\n",
       "      <td>297.149994</td>\n",
       "      <td>95313000.0</td>\n",
       "    </tr>\n",
       "    <tr>\n",
       "      <th>2022-07-30</th>\n",
       "      <td>280.700012</td>\n",
       "      <td>298.320007</td>\n",
       "      <td>279.100006</td>\n",
       "      <td>297.149994</td>\n",
       "      <td>95313000.0</td>\n",
       "    </tr>\n",
       "    <tr>\n",
       "      <th>2022-07-31</th>\n",
       "      <td>280.700012</td>\n",
       "      <td>298.320007</td>\n",
       "      <td>279.100006</td>\n",
       "      <td>297.149994</td>\n",
       "      <td>95313000.0</td>\n",
       "    </tr>\n",
       "    <tr>\n",
       "      <th>2022-08-01</th>\n",
       "      <td>301.276672</td>\n",
       "      <td>311.876678</td>\n",
       "      <td>295.000000</td>\n",
       "      <td>297.276672</td>\n",
       "      <td>117042900.0</td>\n",
       "    </tr>\n",
       "  </tbody>\n",
       "</table>\n",
       "<p>93 rows × 5 columns</p>\n",
       "</div>"
      ],
      "text/plain": [
       "                  open        high         low       close       volume\n",
       "2022-05-01  300.750000  311.466675  290.000000  290.253326   88133100.0\n",
       "2022-05-02  286.923340  302.119995  282.676666  300.980011   75781500.0\n",
       "2022-05-03  301.059998  308.026672  296.196655  303.083344   63709500.0\n",
       "2022-05-04  301.313324  318.500000  295.093323  317.540009   81643800.0\n",
       "2022-05-05  313.006653  315.200012  285.899994  291.093323   92519100.0\n",
       "...                ...         ...         ...         ...          ...\n",
       "2022-07-28  280.066681  283.299988  272.799988  280.899994   84723000.0\n",
       "2022-07-29  280.700012  298.320007  279.100006  297.149994   95313000.0\n",
       "2022-07-30  280.700012  298.320007  279.100006  297.149994   95313000.0\n",
       "2022-07-31  280.700012  298.320007  279.100006  297.149994   95313000.0\n",
       "2022-08-01  301.276672  311.876678  295.000000  297.276672  117042900.0\n",
       "\n",
       "[93 rows x 5 columns]"
      ]
     },
     "execution_count": 16,
     "metadata": {},
     "output_type": "execute_result"
    }
   ],
   "source": [
    "df = workflow_context['selected-data']['TSLA']\n",
    "df.loc[(df.index >= '2022-05-01') & (df.index <= '2022-08-01')]"
   ]
  },
  {
   "cell_type": "code",
   "execution_count": 19,
   "metadata": {},
   "outputs": [
    {
     "data": {
      "text/html": [
       "<div>\n",
       "<style scoped>\n",
       "    .dataframe tbody tr th:only-of-type {\n",
       "        vertical-align: middle;\n",
       "    }\n",
       "\n",
       "    .dataframe tbody tr th {\n",
       "        vertical-align: top;\n",
       "    }\n",
       "\n",
       "    .dataframe thead th {\n",
       "        text-align: right;\n",
       "    }\n",
       "</style>\n",
       "<table border=\"1\" class=\"dataframe\">\n",
       "  <thead>\n",
       "    <tr style=\"text-align: right;\">\n",
       "      <th></th>\n",
       "      <th>open</th>\n",
       "      <th>high</th>\n",
       "      <th>low</th>\n",
       "      <th>close</th>\n",
       "      <th>volume</th>\n",
       "    </tr>\n",
       "    <tr>\n",
       "      <th>Date</th>\n",
       "      <th></th>\n",
       "      <th></th>\n",
       "      <th></th>\n",
       "      <th></th>\n",
       "      <th></th>\n",
       "    </tr>\n",
       "  </thead>\n",
       "  <tbody>\n",
       "    <tr>\n",
       "      <th>2022-04-28</th>\n",
       "      <td>299.993347</td>\n",
       "      <td>300.000000</td>\n",
       "      <td>273.899994</td>\n",
       "      <td>292.503326</td>\n",
       "      <td>124948500</td>\n",
       "    </tr>\n",
       "    <tr>\n",
       "      <th>2022-04-29</th>\n",
       "      <td>300.750000</td>\n",
       "      <td>311.466675</td>\n",
       "      <td>290.000000</td>\n",
       "      <td>290.253326</td>\n",
       "      <td>88133100</td>\n",
       "    </tr>\n",
       "    <tr>\n",
       "      <th>2022-05-02</th>\n",
       "      <td>286.923340</td>\n",
       "      <td>302.119995</td>\n",
       "      <td>282.676666</td>\n",
       "      <td>300.980011</td>\n",
       "      <td>75781500</td>\n",
       "    </tr>\n",
       "    <tr>\n",
       "      <th>2022-05-03</th>\n",
       "      <td>301.059998</td>\n",
       "      <td>308.026672</td>\n",
       "      <td>296.196655</td>\n",
       "      <td>303.083344</td>\n",
       "      <td>63709500</td>\n",
       "    </tr>\n",
       "    <tr>\n",
       "      <th>2022-05-04</th>\n",
       "      <td>301.313324</td>\n",
       "      <td>318.500000</td>\n",
       "      <td>295.093323</td>\n",
       "      <td>317.540009</td>\n",
       "      <td>81643800</td>\n",
       "    </tr>\n",
       "    <tr>\n",
       "      <th>...</th>\n",
       "      <td>...</td>\n",
       "      <td>...</td>\n",
       "      <td>...</td>\n",
       "      <td>...</td>\n",
       "      <td>...</td>\n",
       "    </tr>\n",
       "    <tr>\n",
       "      <th>2022-07-26</th>\n",
       "      <td>266.513336</td>\n",
       "      <td>267.309998</td>\n",
       "      <td>256.263336</td>\n",
       "      <td>258.859985</td>\n",
       "      <td>66820800</td>\n",
       "    </tr>\n",
       "    <tr>\n",
       "      <th>2022-07-27</th>\n",
       "      <td>263.809998</td>\n",
       "      <td>275.926666</td>\n",
       "      <td>261.790009</td>\n",
       "      <td>274.820007</td>\n",
       "      <td>88110000</td>\n",
       "    </tr>\n",
       "    <tr>\n",
       "      <th>2022-07-28</th>\n",
       "      <td>280.066681</td>\n",
       "      <td>283.299988</td>\n",
       "      <td>272.799988</td>\n",
       "      <td>280.899994</td>\n",
       "      <td>84723000</td>\n",
       "    </tr>\n",
       "    <tr>\n",
       "      <th>2022-07-29</th>\n",
       "      <td>280.700012</td>\n",
       "      <td>298.320007</td>\n",
       "      <td>279.100006</td>\n",
       "      <td>297.149994</td>\n",
       "      <td>95313000</td>\n",
       "    </tr>\n",
       "    <tr>\n",
       "      <th>2022-08-01</th>\n",
       "      <td>301.276672</td>\n",
       "      <td>311.876678</td>\n",
       "      <td>295.000000</td>\n",
       "      <td>297.276672</td>\n",
       "      <td>117042900</td>\n",
       "    </tr>\n",
       "  </tbody>\n",
       "</table>\n",
       "<p>65 rows × 5 columns</p>\n",
       "</div>"
      ],
      "text/plain": [
       "                  open        high         low       close     volume\n",
       "Date                                                                 \n",
       "2022-04-28  299.993347  300.000000  273.899994  292.503326  124948500\n",
       "2022-04-29  300.750000  311.466675  290.000000  290.253326   88133100\n",
       "2022-05-02  286.923340  302.119995  282.676666  300.980011   75781500\n",
       "2022-05-03  301.059998  308.026672  296.196655  303.083344   63709500\n",
       "2022-05-04  301.313324  318.500000  295.093323  317.540009   81643800\n",
       "...                ...         ...         ...         ...        ...\n",
       "2022-07-26  266.513336  267.309998  256.263336  258.859985   66820800\n",
       "2022-07-27  263.809998  275.926666  261.790009  274.820007   88110000\n",
       "2022-07-28  280.066681  283.299988  272.799988  280.899994   84723000\n",
       "2022-07-29  280.700012  298.320007  279.100006  297.149994   95313000\n",
       "2022-08-01  301.276672  311.876678  295.000000  297.276672  117042900\n",
       "\n",
       "[65 rows x 5 columns]"
      ]
     },
     "execution_count": 19,
     "metadata": {},
     "output_type": "execute_result"
    }
   ],
   "source": [
    "rdf = workflow_context['data']['TSLA'].remote_data.loaded_data\n",
    "rdf.loc[(rdf.index >= '2022-04-28') & (rdf.index <= '2022-08-01')]"
   ]
  },
  {
   "cell_type": "code",
   "execution_count": null,
   "metadata": {},
   "outputs": [],
   "source": []
  }
 ],
 "metadata": {
  "kernelspec": {
   "display_name": "dione",
   "language": "python",
   "name": "python3"
  },
  "language_info": {
   "codemirror_mode": {
    "name": "ipython",
    "version": 3
   },
   "file_extension": ".py",
   "mimetype": "text/x-python",
   "name": "python",
   "nbconvert_exporter": "python",
   "pygments_lexer": "ipython3",
   "version": "3.10.8"
  },
  "orig_nbformat": 4,
  "vscode": {
   "interpreter": {
    "hash": "cbd1ce12836437d7a1d363a147676001ed8e18b33f77ba54941d5d948f07e897"
   }
  }
 },
 "nbformat": 4,
 "nbformat_minor": 2
}
